{
  "nbformat": 4,
  "nbformat_minor": 0,
  "metadata": {
    "colab": {
      "name": "Covid 19 Project Namisha Singh Final.ipynb",
      "provenance": []
    },
    "kernelspec": {
      "name": "python3",
      "display_name": "Python 3"
    }
  },
  "cells": [
    {
      "cell_type": "markdown",
      "metadata": {
        "id": "KBnX3ekD0WMr"
      },
      "source": [
        "# Task 1: Setting the Environment"
      ]
    },
    {
      "cell_type": "code",
      "metadata": {
        "id": "A3E-DNru0aDm"
      },
      "source": [
        "import pandas as pd\n",
        "import numpy as np\n",
        "import matplotlib.pyplot as plt\n",
        "from matplotlib import style\n",
        "import seaborn as sns\n",
        "%matplotlib inline"
      ],
      "execution_count": 1,
      "outputs": []
    },
    {
      "cell_type": "markdown",
      "metadata": {
        "id": "EdjoBXF50eZr"
      },
      "source": [
        "# Task 2: Data Collection"
      ]
    },
    {
      "cell_type": "code",
      "metadata": {
        "colab": {
          "base_uri": "https://localhost:8080/",
          "height": 406
        },
        "id": "uPd4Iq_R0iaZ",
        "outputId": "c65e8409-78e7-4ef6-b60d-e3d2c7ca29bf"
      },
      "source": [
        "df=pd.read_csv('https://raw.githubusercontent.com/nytimes/covid-19-data/master/us-counties.csv')\n",
        "df"
      ],
      "execution_count": 2,
      "outputs": [
        {
          "output_type": "execute_result",
          "data": {
            "text/html": [
              "<div>\n",
              "<style scoped>\n",
              "    .dataframe tbody tr th:only-of-type {\n",
              "        vertical-align: middle;\n",
              "    }\n",
              "\n",
              "    .dataframe tbody tr th {\n",
              "        vertical-align: top;\n",
              "    }\n",
              "\n",
              "    .dataframe thead th {\n",
              "        text-align: right;\n",
              "    }\n",
              "</style>\n",
              "<table border=\"1\" class=\"dataframe\">\n",
              "  <thead>\n",
              "    <tr style=\"text-align: right;\">\n",
              "      <th></th>\n",
              "      <th>date</th>\n",
              "      <th>county</th>\n",
              "      <th>state</th>\n",
              "      <th>fips</th>\n",
              "      <th>cases</th>\n",
              "      <th>deaths</th>\n",
              "    </tr>\n",
              "  </thead>\n",
              "  <tbody>\n",
              "    <tr>\n",
              "      <th>0</th>\n",
              "      <td>2020-01-21</td>\n",
              "      <td>Snohomish</td>\n",
              "      <td>Washington</td>\n",
              "      <td>53061.0</td>\n",
              "      <td>1</td>\n",
              "      <td>0.0</td>\n",
              "    </tr>\n",
              "    <tr>\n",
              "      <th>1</th>\n",
              "      <td>2020-01-22</td>\n",
              "      <td>Snohomish</td>\n",
              "      <td>Washington</td>\n",
              "      <td>53061.0</td>\n",
              "      <td>1</td>\n",
              "      <td>0.0</td>\n",
              "    </tr>\n",
              "    <tr>\n",
              "      <th>2</th>\n",
              "      <td>2020-01-23</td>\n",
              "      <td>Snohomish</td>\n",
              "      <td>Washington</td>\n",
              "      <td>53061.0</td>\n",
              "      <td>1</td>\n",
              "      <td>0.0</td>\n",
              "    </tr>\n",
              "    <tr>\n",
              "      <th>3</th>\n",
              "      <td>2020-01-24</td>\n",
              "      <td>Cook</td>\n",
              "      <td>Illinois</td>\n",
              "      <td>17031.0</td>\n",
              "      <td>1</td>\n",
              "      <td>0.0</td>\n",
              "    </tr>\n",
              "    <tr>\n",
              "      <th>4</th>\n",
              "      <td>2020-01-24</td>\n",
              "      <td>Snohomish</td>\n",
              "      <td>Washington</td>\n",
              "      <td>53061.0</td>\n",
              "      <td>1</td>\n",
              "      <td>0.0</td>\n",
              "    </tr>\n",
              "    <tr>\n",
              "      <th>...</th>\n",
              "      <td>...</td>\n",
              "      <td>...</td>\n",
              "      <td>...</td>\n",
              "      <td>...</td>\n",
              "      <td>...</td>\n",
              "      <td>...</td>\n",
              "    </tr>\n",
              "    <tr>\n",
              "      <th>943228</th>\n",
              "      <td>2021-01-18</td>\n",
              "      <td>Sweetwater</td>\n",
              "      <td>Wyoming</td>\n",
              "      <td>56037.0</td>\n",
              "      <td>3312</td>\n",
              "      <td>26.0</td>\n",
              "    </tr>\n",
              "    <tr>\n",
              "      <th>943229</th>\n",
              "      <td>2021-01-18</td>\n",
              "      <td>Teton</td>\n",
              "      <td>Wyoming</td>\n",
              "      <td>56039.0</td>\n",
              "      <td>2753</td>\n",
              "      <td>4.0</td>\n",
              "    </tr>\n",
              "    <tr>\n",
              "      <th>943230</th>\n",
              "      <td>2021-01-18</td>\n",
              "      <td>Uinta</td>\n",
              "      <td>Wyoming</td>\n",
              "      <td>56041.0</td>\n",
              "      <td>1833</td>\n",
              "      <td>9.0</td>\n",
              "    </tr>\n",
              "    <tr>\n",
              "      <th>943231</th>\n",
              "      <td>2021-01-18</td>\n",
              "      <td>Washakie</td>\n",
              "      <td>Wyoming</td>\n",
              "      <td>56043.0</td>\n",
              "      <td>843</td>\n",
              "      <td>23.0</td>\n",
              "    </tr>\n",
              "    <tr>\n",
              "      <th>943232</th>\n",
              "      <td>2021-01-18</td>\n",
              "      <td>Weston</td>\n",
              "      <td>Wyoming</td>\n",
              "      <td>56045.0</td>\n",
              "      <td>602</td>\n",
              "      <td>4.0</td>\n",
              "    </tr>\n",
              "  </tbody>\n",
              "</table>\n",
              "<p>943233 rows × 6 columns</p>\n",
              "</div>"
            ],
            "text/plain": [
              "              date      county       state     fips  cases  deaths\n",
              "0       2020-01-21   Snohomish  Washington  53061.0      1     0.0\n",
              "1       2020-01-22   Snohomish  Washington  53061.0      1     0.0\n",
              "2       2020-01-23   Snohomish  Washington  53061.0      1     0.0\n",
              "3       2020-01-24        Cook    Illinois  17031.0      1     0.0\n",
              "4       2020-01-24   Snohomish  Washington  53061.0      1     0.0\n",
              "...            ...         ...         ...      ...    ...     ...\n",
              "943228  2021-01-18  Sweetwater     Wyoming  56037.0   3312    26.0\n",
              "943229  2021-01-18       Teton     Wyoming  56039.0   2753     4.0\n",
              "943230  2021-01-18       Uinta     Wyoming  56041.0   1833     9.0\n",
              "943231  2021-01-18    Washakie     Wyoming  56043.0    843    23.0\n",
              "943232  2021-01-18      Weston     Wyoming  56045.0    602     4.0\n",
              "\n",
              "[943233 rows x 6 columns]"
            ]
          },
          "metadata": {
            "tags": []
          },
          "execution_count": 2
        }
      ]
    },
    {
      "cell_type": "code",
      "metadata": {
        "colab": {
          "base_uri": "https://localhost:8080/"
        },
        "id": "poS1WFHq0mHk",
        "outputId": "3b951029-ea18-4b25-8bff-49c8b7fcf2ad"
      },
      "source": [
        "df.shape"
      ],
      "execution_count": null,
      "outputs": [
        {
          "output_type": "execute_result",
          "data": {
            "text/plain": [
              "(939988, 6)"
            ]
          },
          "metadata": {
            "tags": []
          },
          "execution_count": 60
        }
      ]
    },
    {
      "cell_type": "code",
      "metadata": {
        "colab": {
          "base_uri": "https://localhost:8080/",
          "height": 197
        },
        "id": "Q45cdTVj0riB",
        "outputId": "81edb38b-5266-40fe-fdbc-204f7632a7bb"
      },
      "source": [
        "df.head()"
      ],
      "execution_count": null,
      "outputs": [
        {
          "output_type": "execute_result",
          "data": {
            "text/html": [
              "<div>\n",
              "<style scoped>\n",
              "    .dataframe tbody tr th:only-of-type {\n",
              "        vertical-align: middle;\n",
              "    }\n",
              "\n",
              "    .dataframe tbody tr th {\n",
              "        vertical-align: top;\n",
              "    }\n",
              "\n",
              "    .dataframe thead th {\n",
              "        text-align: right;\n",
              "    }\n",
              "</style>\n",
              "<table border=\"1\" class=\"dataframe\">\n",
              "  <thead>\n",
              "    <tr style=\"text-align: right;\">\n",
              "      <th></th>\n",
              "      <th>date</th>\n",
              "      <th>county</th>\n",
              "      <th>state</th>\n",
              "      <th>fips</th>\n",
              "      <th>cases</th>\n",
              "      <th>deaths</th>\n",
              "    </tr>\n",
              "  </thead>\n",
              "  <tbody>\n",
              "    <tr>\n",
              "      <th>0</th>\n",
              "      <td>2020-01-21</td>\n",
              "      <td>Snohomish</td>\n",
              "      <td>Washington</td>\n",
              "      <td>53061.0</td>\n",
              "      <td>1</td>\n",
              "      <td>0.0</td>\n",
              "    </tr>\n",
              "    <tr>\n",
              "      <th>1</th>\n",
              "      <td>2020-01-22</td>\n",
              "      <td>Snohomish</td>\n",
              "      <td>Washington</td>\n",
              "      <td>53061.0</td>\n",
              "      <td>1</td>\n",
              "      <td>0.0</td>\n",
              "    </tr>\n",
              "    <tr>\n",
              "      <th>2</th>\n",
              "      <td>2020-01-23</td>\n",
              "      <td>Snohomish</td>\n",
              "      <td>Washington</td>\n",
              "      <td>53061.0</td>\n",
              "      <td>1</td>\n",
              "      <td>0.0</td>\n",
              "    </tr>\n",
              "    <tr>\n",
              "      <th>3</th>\n",
              "      <td>2020-01-24</td>\n",
              "      <td>Cook</td>\n",
              "      <td>Illinois</td>\n",
              "      <td>17031.0</td>\n",
              "      <td>1</td>\n",
              "      <td>0.0</td>\n",
              "    </tr>\n",
              "    <tr>\n",
              "      <th>4</th>\n",
              "      <td>2020-01-24</td>\n",
              "      <td>Snohomish</td>\n",
              "      <td>Washington</td>\n",
              "      <td>53061.0</td>\n",
              "      <td>1</td>\n",
              "      <td>0.0</td>\n",
              "    </tr>\n",
              "  </tbody>\n",
              "</table>\n",
              "</div>"
            ],
            "text/plain": [
              "         date     county       state     fips  cases  deaths\n",
              "0  2020-01-21  Snohomish  Washington  53061.0      1     0.0\n",
              "1  2020-01-22  Snohomish  Washington  53061.0      1     0.0\n",
              "2  2020-01-23  Snohomish  Washington  53061.0      1     0.0\n",
              "3  2020-01-24       Cook    Illinois  17031.0      1     0.0\n",
              "4  2020-01-24  Snohomish  Washington  53061.0      1     0.0"
            ]
          },
          "metadata": {
            "tags": []
          },
          "execution_count": 59
        }
      ]
    },
    {
      "cell_type": "code",
      "metadata": {
        "colab": {
          "base_uri": "https://localhost:8080/",
          "height": 197
        },
        "id": "IBas3uJX0unQ",
        "outputId": "35e4cbdc-224a-491d-b107-025eee0b04dd"
      },
      "source": [
        "df.tail()"
      ],
      "execution_count": null,
      "outputs": [
        {
          "output_type": "execute_result",
          "data": {
            "text/html": [
              "<div>\n",
              "<style scoped>\n",
              "    .dataframe tbody tr th:only-of-type {\n",
              "        vertical-align: middle;\n",
              "    }\n",
              "\n",
              "    .dataframe tbody tr th {\n",
              "        vertical-align: top;\n",
              "    }\n",
              "\n",
              "    .dataframe thead th {\n",
              "        text-align: right;\n",
              "    }\n",
              "</style>\n",
              "<table border=\"1\" class=\"dataframe\">\n",
              "  <thead>\n",
              "    <tr style=\"text-align: right;\">\n",
              "      <th></th>\n",
              "      <th>date</th>\n",
              "      <th>county</th>\n",
              "      <th>state</th>\n",
              "      <th>fips</th>\n",
              "      <th>cases</th>\n",
              "      <th>deaths</th>\n",
              "    </tr>\n",
              "  </thead>\n",
              "  <tbody>\n",
              "    <tr>\n",
              "      <th>939983</th>\n",
              "      <td>2021-01-17</td>\n",
              "      <td>Sweetwater</td>\n",
              "      <td>Wyoming</td>\n",
              "      <td>56037.0</td>\n",
              "      <td>3290</td>\n",
              "      <td>26.0</td>\n",
              "    </tr>\n",
              "    <tr>\n",
              "      <th>939984</th>\n",
              "      <td>2021-01-17</td>\n",
              "      <td>Teton</td>\n",
              "      <td>Wyoming</td>\n",
              "      <td>56039.0</td>\n",
              "      <td>2685</td>\n",
              "      <td>4.0</td>\n",
              "    </tr>\n",
              "    <tr>\n",
              "      <th>939985</th>\n",
              "      <td>2021-01-17</td>\n",
              "      <td>Uinta</td>\n",
              "      <td>Wyoming</td>\n",
              "      <td>56041.0</td>\n",
              "      <td>1817</td>\n",
              "      <td>9.0</td>\n",
              "    </tr>\n",
              "    <tr>\n",
              "      <th>939986</th>\n",
              "      <td>2021-01-17</td>\n",
              "      <td>Washakie</td>\n",
              "      <td>Wyoming</td>\n",
              "      <td>56043.0</td>\n",
              "      <td>842</td>\n",
              "      <td>23.0</td>\n",
              "    </tr>\n",
              "    <tr>\n",
              "      <th>939987</th>\n",
              "      <td>2021-01-17</td>\n",
              "      <td>Weston</td>\n",
              "      <td>Wyoming</td>\n",
              "      <td>56045.0</td>\n",
              "      <td>602</td>\n",
              "      <td>4.0</td>\n",
              "    </tr>\n",
              "  </tbody>\n",
              "</table>\n",
              "</div>"
            ],
            "text/plain": [
              "              date      county    state     fips  cases  deaths\n",
              "939983  2021-01-17  Sweetwater  Wyoming  56037.0   3290    26.0\n",
              "939984  2021-01-17       Teton  Wyoming  56039.0   2685     4.0\n",
              "939985  2021-01-17       Uinta  Wyoming  56041.0   1817     9.0\n",
              "939986  2021-01-17    Washakie  Wyoming  56043.0    842    23.0\n",
              "939987  2021-01-17      Weston  Wyoming  56045.0    602     4.0"
            ]
          },
          "metadata": {
            "tags": []
          },
          "execution_count": 61
        }
      ]
    },
    {
      "cell_type": "code",
      "metadata": {
        "colab": {
          "base_uri": "https://localhost:8080/",
          "height": 287
        },
        "id": "UzPDY6sf0yjf",
        "outputId": "7d715ca8-b4f5-49c6-9fb7-d52183468569"
      },
      "source": [
        "df.describe()"
      ],
      "execution_count": null,
      "outputs": [
        {
          "output_type": "execute_result",
          "data": {
            "text/html": [
              "<div>\n",
              "<style scoped>\n",
              "    .dataframe tbody tr th:only-of-type {\n",
              "        vertical-align: middle;\n",
              "    }\n",
              "\n",
              "    .dataframe tbody tr th {\n",
              "        vertical-align: top;\n",
              "    }\n",
              "\n",
              "    .dataframe thead th {\n",
              "        text-align: right;\n",
              "    }\n",
              "</style>\n",
              "<table border=\"1\" class=\"dataframe\">\n",
              "  <thead>\n",
              "    <tr style=\"text-align: right;\">\n",
              "      <th></th>\n",
              "      <th>fips</th>\n",
              "      <th>cases</th>\n",
              "      <th>deaths</th>\n",
              "    </tr>\n",
              "  </thead>\n",
              "  <tbody>\n",
              "    <tr>\n",
              "      <th>count</th>\n",
              "      <td>931216.000000</td>\n",
              "      <td>9.399880e+05</td>\n",
              "      <td>919901.000000</td>\n",
              "    </tr>\n",
              "    <tr>\n",
              "      <th>mean</th>\n",
              "      <td>31272.924206</td>\n",
              "      <td>2.238276e+03</td>\n",
              "      <td>57.326599</td>\n",
              "    </tr>\n",
              "    <tr>\n",
              "      <th>std</th>\n",
              "      <td>16300.883885</td>\n",
              "      <td>1.174562e+04</td>\n",
              "      <td>461.961465</td>\n",
              "    </tr>\n",
              "    <tr>\n",
              "      <th>min</th>\n",
              "      <td>1001.000000</td>\n",
              "      <td>0.000000e+00</td>\n",
              "      <td>0.000000</td>\n",
              "    </tr>\n",
              "    <tr>\n",
              "      <th>25%</th>\n",
              "      <td>19001.000000</td>\n",
              "      <td>4.100000e+01</td>\n",
              "      <td>0.000000</td>\n",
              "    </tr>\n",
              "    <tr>\n",
              "      <th>50%</th>\n",
              "      <td>29217.000000</td>\n",
              "      <td>2.670000e+02</td>\n",
              "      <td>5.000000</td>\n",
              "    </tr>\n",
              "    <tr>\n",
              "      <th>75%</th>\n",
              "      <td>46101.000000</td>\n",
              "      <td>1.151000e+03</td>\n",
              "      <td>24.000000</td>\n",
              "    </tr>\n",
              "    <tr>\n",
              "      <th>max</th>\n",
              "      <td>78030.000000</td>\n",
              "      <td>1.015063e+06</td>\n",
              "      <td>26036.000000</td>\n",
              "    </tr>\n",
              "  </tbody>\n",
              "</table>\n",
              "</div>"
            ],
            "text/plain": [
              "                fips         cases         deaths\n",
              "count  931216.000000  9.399880e+05  919901.000000\n",
              "mean    31272.924206  2.238276e+03      57.326599\n",
              "std     16300.883885  1.174562e+04     461.961465\n",
              "min      1001.000000  0.000000e+00       0.000000\n",
              "25%     19001.000000  4.100000e+01       0.000000\n",
              "50%     29217.000000  2.670000e+02       5.000000\n",
              "75%     46101.000000  1.151000e+03      24.000000\n",
              "max     78030.000000  1.015063e+06   26036.000000"
            ]
          },
          "metadata": {
            "tags": []
          },
          "execution_count": 62
        }
      ]
    },
    {
      "cell_type": "code",
      "metadata": {
        "colab": {
          "base_uri": "https://localhost:8080/"
        },
        "id": "ZmHW1-m-007q",
        "outputId": "75b86259-4972-48f8-d5b4-2ea11fc84347"
      },
      "source": [
        "df.median()"
      ],
      "execution_count": null,
      "outputs": [
        {
          "output_type": "execute_result",
          "data": {
            "text/plain": [
              "fips      29217.0\n",
              "cases       267.0\n",
              "deaths        5.0\n",
              "dtype: float64"
            ]
          },
          "metadata": {
            "tags": []
          },
          "execution_count": 63
        }
      ]
    },
    {
      "cell_type": "code",
      "metadata": {
        "colab": {
          "base_uri": "https://localhost:8080/"
        },
        "id": "ONwDw6LU05cv",
        "outputId": "93bb2e3f-6a10-4ce1-ddba-8cff1fae01ed"
      },
      "source": [
        "df['state']"
      ],
      "execution_count": null,
      "outputs": [
        {
          "output_type": "execute_result",
          "data": {
            "text/plain": [
              "0         Washington\n",
              "1         Washington\n",
              "2         Washington\n",
              "3           Illinois\n",
              "4         Washington\n",
              "             ...    \n",
              "939983       Wyoming\n",
              "939984       Wyoming\n",
              "939985       Wyoming\n",
              "939986       Wyoming\n",
              "939987       Wyoming\n",
              "Name: state, Length: 939988, dtype: object"
            ]
          },
          "metadata": {
            "tags": []
          },
          "execution_count": 64
        }
      ]
    },
    {
      "cell_type": "markdown",
      "metadata": {
        "id": "zLk30sUG0-at"
      },
      "source": [
        "# Task 3 : Data Wrangling and EDA (Exploratory Data Analysis)"
      ]
    },
    {
      "cell_type": "markdown",
      "metadata": {
        "id": "aWFeEIIQ1Hzg"
      },
      "source": [
        "New York Covid 19 Data Analysis"
      ]
    },
    {
      "cell_type": "code",
      "metadata": {
        "colab": {
          "base_uri": "https://localhost:8080/",
          "height": 406
        },
        "id": "WrcUd0cYJ288",
        "outputId": "63d4bfa1-0a89-4ac3-a5f5-50bf4614b437"
      },
      "source": [
        "df = pd.read_csv('https://raw.githubusercontent.com/nytimes/covid-19-data/master/us-counties.csv')\n",
        "df\n",
        "\n",
        "#DroppingFips\n",
        "drop_cols=['fips']\n",
        "df.drop(drop_cols,inplace = True, axis=1)\n",
        "df"
      ],
      "execution_count": null,
      "outputs": [
        {
          "output_type": "execute_result",
          "data": {
            "text/html": [
              "<div>\n",
              "<style scoped>\n",
              "    .dataframe tbody tr th:only-of-type {\n",
              "        vertical-align: middle;\n",
              "    }\n",
              "\n",
              "    .dataframe tbody tr th {\n",
              "        vertical-align: top;\n",
              "    }\n",
              "\n",
              "    .dataframe thead th {\n",
              "        text-align: right;\n",
              "    }\n",
              "</style>\n",
              "<table border=\"1\" class=\"dataframe\">\n",
              "  <thead>\n",
              "    <tr style=\"text-align: right;\">\n",
              "      <th></th>\n",
              "      <th>date</th>\n",
              "      <th>county</th>\n",
              "      <th>state</th>\n",
              "      <th>cases</th>\n",
              "      <th>deaths</th>\n",
              "    </tr>\n",
              "  </thead>\n",
              "  <tbody>\n",
              "    <tr>\n",
              "      <th>0</th>\n",
              "      <td>2020-01-21</td>\n",
              "      <td>Snohomish</td>\n",
              "      <td>Washington</td>\n",
              "      <td>1</td>\n",
              "      <td>0.0</td>\n",
              "    </tr>\n",
              "    <tr>\n",
              "      <th>1</th>\n",
              "      <td>2020-01-22</td>\n",
              "      <td>Snohomish</td>\n",
              "      <td>Washington</td>\n",
              "      <td>1</td>\n",
              "      <td>0.0</td>\n",
              "    </tr>\n",
              "    <tr>\n",
              "      <th>2</th>\n",
              "      <td>2020-01-23</td>\n",
              "      <td>Snohomish</td>\n",
              "      <td>Washington</td>\n",
              "      <td>1</td>\n",
              "      <td>0.0</td>\n",
              "    </tr>\n",
              "    <tr>\n",
              "      <th>3</th>\n",
              "      <td>2020-01-24</td>\n",
              "      <td>Cook</td>\n",
              "      <td>Illinois</td>\n",
              "      <td>1</td>\n",
              "      <td>0.0</td>\n",
              "    </tr>\n",
              "    <tr>\n",
              "      <th>4</th>\n",
              "      <td>2020-01-24</td>\n",
              "      <td>Snohomish</td>\n",
              "      <td>Washington</td>\n",
              "      <td>1</td>\n",
              "      <td>0.0</td>\n",
              "    </tr>\n",
              "    <tr>\n",
              "      <th>...</th>\n",
              "      <td>...</td>\n",
              "      <td>...</td>\n",
              "      <td>...</td>\n",
              "      <td>...</td>\n",
              "      <td>...</td>\n",
              "    </tr>\n",
              "    <tr>\n",
              "      <th>939983</th>\n",
              "      <td>2021-01-17</td>\n",
              "      <td>Sweetwater</td>\n",
              "      <td>Wyoming</td>\n",
              "      <td>3290</td>\n",
              "      <td>26.0</td>\n",
              "    </tr>\n",
              "    <tr>\n",
              "      <th>939984</th>\n",
              "      <td>2021-01-17</td>\n",
              "      <td>Teton</td>\n",
              "      <td>Wyoming</td>\n",
              "      <td>2685</td>\n",
              "      <td>4.0</td>\n",
              "    </tr>\n",
              "    <tr>\n",
              "      <th>939985</th>\n",
              "      <td>2021-01-17</td>\n",
              "      <td>Uinta</td>\n",
              "      <td>Wyoming</td>\n",
              "      <td>1817</td>\n",
              "      <td>9.0</td>\n",
              "    </tr>\n",
              "    <tr>\n",
              "      <th>939986</th>\n",
              "      <td>2021-01-17</td>\n",
              "      <td>Washakie</td>\n",
              "      <td>Wyoming</td>\n",
              "      <td>842</td>\n",
              "      <td>23.0</td>\n",
              "    </tr>\n",
              "    <tr>\n",
              "      <th>939987</th>\n",
              "      <td>2021-01-17</td>\n",
              "      <td>Weston</td>\n",
              "      <td>Wyoming</td>\n",
              "      <td>602</td>\n",
              "      <td>4.0</td>\n",
              "    </tr>\n",
              "  </tbody>\n",
              "</table>\n",
              "<p>939988 rows × 5 columns</p>\n",
              "</div>"
            ],
            "text/plain": [
              "              date      county       state  cases  deaths\n",
              "0       2020-01-21   Snohomish  Washington      1     0.0\n",
              "1       2020-01-22   Snohomish  Washington      1     0.0\n",
              "2       2020-01-23   Snohomish  Washington      1     0.0\n",
              "3       2020-01-24        Cook    Illinois      1     0.0\n",
              "4       2020-01-24   Snohomish  Washington      1     0.0\n",
              "...            ...         ...         ...    ...     ...\n",
              "939983  2021-01-17  Sweetwater     Wyoming   3290    26.0\n",
              "939984  2021-01-17       Teton     Wyoming   2685     4.0\n",
              "939985  2021-01-17       Uinta     Wyoming   1817     9.0\n",
              "939986  2021-01-17    Washakie     Wyoming    842    23.0\n",
              "939987  2021-01-17      Weston     Wyoming    602     4.0\n",
              "\n",
              "[939988 rows x 5 columns]"
            ]
          },
          "metadata": {
            "tags": []
          },
          "execution_count": 71
        }
      ]
    },
    {
      "cell_type": "code",
      "metadata": {
        "colab": {
          "base_uri": "https://localhost:8080/",
          "height": 406
        },
        "id": "oV-75Mf32ShB",
        "outputId": "047bfe4a-3902-42e2-9def-6044f4fb54a4"
      },
      "source": [
        "df_newyork=df[df['state']=='New York']\n",
        "df_newyork"
      ],
      "execution_count": null,
      "outputs": [
        {
          "output_type": "execute_result",
          "data": {
            "text/html": [
              "<div>\n",
              "<style scoped>\n",
              "    .dataframe tbody tr th:only-of-type {\n",
              "        vertical-align: middle;\n",
              "    }\n",
              "\n",
              "    .dataframe tbody tr th {\n",
              "        vertical-align: top;\n",
              "    }\n",
              "\n",
              "    .dataframe thead th {\n",
              "        text-align: right;\n",
              "    }\n",
              "</style>\n",
              "<table border=\"1\" class=\"dataframe\">\n",
              "  <thead>\n",
              "    <tr style=\"text-align: right;\">\n",
              "      <th></th>\n",
              "      <th>date</th>\n",
              "      <th>county</th>\n",
              "      <th>state</th>\n",
              "      <th>cases</th>\n",
              "      <th>deaths</th>\n",
              "    </tr>\n",
              "  </thead>\n",
              "  <tbody>\n",
              "    <tr>\n",
              "      <th>416</th>\n",
              "      <td>2020-03-01</td>\n",
              "      <td>New York City</td>\n",
              "      <td>New York</td>\n",
              "      <td>1</td>\n",
              "      <td>0.0</td>\n",
              "    </tr>\n",
              "    <tr>\n",
              "      <th>448</th>\n",
              "      <td>2020-03-02</td>\n",
              "      <td>New York City</td>\n",
              "      <td>New York</td>\n",
              "      <td>1</td>\n",
              "      <td>0.0</td>\n",
              "    </tr>\n",
              "    <tr>\n",
              "      <th>482</th>\n",
              "      <td>2020-03-03</td>\n",
              "      <td>New York City</td>\n",
              "      <td>New York</td>\n",
              "      <td>2</td>\n",
              "      <td>0.0</td>\n",
              "    </tr>\n",
              "    <tr>\n",
              "      <th>518</th>\n",
              "      <td>2020-03-04</td>\n",
              "      <td>New York City</td>\n",
              "      <td>New York</td>\n",
              "      <td>2</td>\n",
              "      <td>0.0</td>\n",
              "    </tr>\n",
              "    <tr>\n",
              "      <th>519</th>\n",
              "      <td>2020-03-04</td>\n",
              "      <td>Westchester</td>\n",
              "      <td>New York</td>\n",
              "      <td>9</td>\n",
              "      <td>0.0</td>\n",
              "    </tr>\n",
              "    <tr>\n",
              "      <th>...</th>\n",
              "      <td>...</td>\n",
              "      <td>...</td>\n",
              "      <td>...</td>\n",
              "      <td>...</td>\n",
              "      <td>...</td>\n",
              "    </tr>\n",
              "    <tr>\n",
              "      <th>938641</th>\n",
              "      <td>2021-01-17</td>\n",
              "      <td>Washington</td>\n",
              "      <td>New York</td>\n",
              "      <td>1438</td>\n",
              "      <td>23.0</td>\n",
              "    </tr>\n",
              "    <tr>\n",
              "      <th>938642</th>\n",
              "      <td>2021-01-17</td>\n",
              "      <td>Wayne</td>\n",
              "      <td>New York</td>\n",
              "      <td>3606</td>\n",
              "      <td>50.0</td>\n",
              "    </tr>\n",
              "    <tr>\n",
              "      <th>938643</th>\n",
              "      <td>2021-01-17</td>\n",
              "      <td>Westchester</td>\n",
              "      <td>New York</td>\n",
              "      <td>83707</td>\n",
              "      <td>1789.0</td>\n",
              "    </tr>\n",
              "    <tr>\n",
              "      <th>938644</th>\n",
              "      <td>2021-01-17</td>\n",
              "      <td>Wyoming</td>\n",
              "      <td>New York</td>\n",
              "      <td>2114</td>\n",
              "      <td>41.0</td>\n",
              "    </tr>\n",
              "    <tr>\n",
              "      <th>938645</th>\n",
              "      <td>2021-01-17</td>\n",
              "      <td>Yates</td>\n",
              "      <td>New York</td>\n",
              "      <td>795</td>\n",
              "      <td>16.0</td>\n",
              "    </tr>\n",
              "  </tbody>\n",
              "</table>\n",
              "<p>17794 rows × 5 columns</p>\n",
              "</div>"
            ],
            "text/plain": [
              "              date         county     state  cases  deaths\n",
              "416     2020-03-01  New York City  New York      1     0.0\n",
              "448     2020-03-02  New York City  New York      1     0.0\n",
              "482     2020-03-03  New York City  New York      2     0.0\n",
              "518     2020-03-04  New York City  New York      2     0.0\n",
              "519     2020-03-04    Westchester  New York      9     0.0\n",
              "...            ...            ...       ...    ...     ...\n",
              "938641  2021-01-17     Washington  New York   1438    23.0\n",
              "938642  2021-01-17          Wayne  New York   3606    50.0\n",
              "938643  2021-01-17    Westchester  New York  83707  1789.0\n",
              "938644  2021-01-17        Wyoming  New York   2114    41.0\n",
              "938645  2021-01-17          Yates  New York    795    16.0\n",
              "\n",
              "[17794 rows x 5 columns]"
            ]
          },
          "metadata": {
            "tags": []
          },
          "execution_count": 72
        }
      ]
    },
    {
      "cell_type": "code",
      "metadata": {
        "colab": {
          "base_uri": "https://localhost:8080/",
          "height": 197
        },
        "id": "56iciCgf2gj2",
        "outputId": "f2563076-d824-4857-ca40-6d33594d0b23"
      },
      "source": [
        "df_newyork.head()"
      ],
      "execution_count": null,
      "outputs": [
        {
          "output_type": "execute_result",
          "data": {
            "text/html": [
              "<div>\n",
              "<style scoped>\n",
              "    .dataframe tbody tr th:only-of-type {\n",
              "        vertical-align: middle;\n",
              "    }\n",
              "\n",
              "    .dataframe tbody tr th {\n",
              "        vertical-align: top;\n",
              "    }\n",
              "\n",
              "    .dataframe thead th {\n",
              "        text-align: right;\n",
              "    }\n",
              "</style>\n",
              "<table border=\"1\" class=\"dataframe\">\n",
              "  <thead>\n",
              "    <tr style=\"text-align: right;\">\n",
              "      <th></th>\n",
              "      <th>date</th>\n",
              "      <th>county</th>\n",
              "      <th>state</th>\n",
              "      <th>cases</th>\n",
              "      <th>deaths</th>\n",
              "    </tr>\n",
              "  </thead>\n",
              "  <tbody>\n",
              "    <tr>\n",
              "      <th>416</th>\n",
              "      <td>2020-03-01</td>\n",
              "      <td>New York City</td>\n",
              "      <td>New York</td>\n",
              "      <td>1</td>\n",
              "      <td>0.0</td>\n",
              "    </tr>\n",
              "    <tr>\n",
              "      <th>448</th>\n",
              "      <td>2020-03-02</td>\n",
              "      <td>New York City</td>\n",
              "      <td>New York</td>\n",
              "      <td>1</td>\n",
              "      <td>0.0</td>\n",
              "    </tr>\n",
              "    <tr>\n",
              "      <th>482</th>\n",
              "      <td>2020-03-03</td>\n",
              "      <td>New York City</td>\n",
              "      <td>New York</td>\n",
              "      <td>2</td>\n",
              "      <td>0.0</td>\n",
              "    </tr>\n",
              "    <tr>\n",
              "      <th>518</th>\n",
              "      <td>2020-03-04</td>\n",
              "      <td>New York City</td>\n",
              "      <td>New York</td>\n",
              "      <td>2</td>\n",
              "      <td>0.0</td>\n",
              "    </tr>\n",
              "    <tr>\n",
              "      <th>519</th>\n",
              "      <td>2020-03-04</td>\n",
              "      <td>Westchester</td>\n",
              "      <td>New York</td>\n",
              "      <td>9</td>\n",
              "      <td>0.0</td>\n",
              "    </tr>\n",
              "  </tbody>\n",
              "</table>\n",
              "</div>"
            ],
            "text/plain": [
              "           date         county     state  cases  deaths\n",
              "416  2020-03-01  New York City  New York      1     0.0\n",
              "448  2020-03-02  New York City  New York      1     0.0\n",
              "482  2020-03-03  New York City  New York      2     0.0\n",
              "518  2020-03-04  New York City  New York      2     0.0\n",
              "519  2020-03-04    Westchester  New York      9     0.0"
            ]
          },
          "metadata": {
            "tags": []
          },
          "execution_count": 73
        }
      ]
    },
    {
      "cell_type": "code",
      "metadata": {
        "colab": {
          "base_uri": "https://localhost:8080/",
          "height": 197
        },
        "id": "VwYQ7uaC2m6k",
        "outputId": "0d6ec409-19b2-409e-954c-465f53211d1d"
      },
      "source": [
        "df_newyork.tail()"
      ],
      "execution_count": null,
      "outputs": [
        {
          "output_type": "execute_result",
          "data": {
            "text/html": [
              "<div>\n",
              "<style scoped>\n",
              "    .dataframe tbody tr th:only-of-type {\n",
              "        vertical-align: middle;\n",
              "    }\n",
              "\n",
              "    .dataframe tbody tr th {\n",
              "        vertical-align: top;\n",
              "    }\n",
              "\n",
              "    .dataframe thead th {\n",
              "        text-align: right;\n",
              "    }\n",
              "</style>\n",
              "<table border=\"1\" class=\"dataframe\">\n",
              "  <thead>\n",
              "    <tr style=\"text-align: right;\">\n",
              "      <th></th>\n",
              "      <th>date</th>\n",
              "      <th>county</th>\n",
              "      <th>state</th>\n",
              "      <th>cases</th>\n",
              "      <th>deaths</th>\n",
              "    </tr>\n",
              "  </thead>\n",
              "  <tbody>\n",
              "    <tr>\n",
              "      <th>938641</th>\n",
              "      <td>2021-01-17</td>\n",
              "      <td>Washington</td>\n",
              "      <td>New York</td>\n",
              "      <td>1438</td>\n",
              "      <td>23.0</td>\n",
              "    </tr>\n",
              "    <tr>\n",
              "      <th>938642</th>\n",
              "      <td>2021-01-17</td>\n",
              "      <td>Wayne</td>\n",
              "      <td>New York</td>\n",
              "      <td>3606</td>\n",
              "      <td>50.0</td>\n",
              "    </tr>\n",
              "    <tr>\n",
              "      <th>938643</th>\n",
              "      <td>2021-01-17</td>\n",
              "      <td>Westchester</td>\n",
              "      <td>New York</td>\n",
              "      <td>83707</td>\n",
              "      <td>1789.0</td>\n",
              "    </tr>\n",
              "    <tr>\n",
              "      <th>938644</th>\n",
              "      <td>2021-01-17</td>\n",
              "      <td>Wyoming</td>\n",
              "      <td>New York</td>\n",
              "      <td>2114</td>\n",
              "      <td>41.0</td>\n",
              "    </tr>\n",
              "    <tr>\n",
              "      <th>938645</th>\n",
              "      <td>2021-01-17</td>\n",
              "      <td>Yates</td>\n",
              "      <td>New York</td>\n",
              "      <td>795</td>\n",
              "      <td>16.0</td>\n",
              "    </tr>\n",
              "  </tbody>\n",
              "</table>\n",
              "</div>"
            ],
            "text/plain": [
              "              date       county     state  cases  deaths\n",
              "938641  2021-01-17   Washington  New York   1438    23.0\n",
              "938642  2021-01-17        Wayne  New York   3606    50.0\n",
              "938643  2021-01-17  Westchester  New York  83707  1789.0\n",
              "938644  2021-01-17      Wyoming  New York   2114    41.0\n",
              "938645  2021-01-17        Yates  New York    795    16.0"
            ]
          },
          "metadata": {
            "tags": []
          },
          "execution_count": 74
        }
      ]
    },
    {
      "cell_type": "code",
      "metadata": {
        "colab": {
          "base_uri": "https://localhost:8080/"
        },
        "id": "6fL3iTCl2_Z6",
        "outputId": "917ac367-3e54-40b0-cddc-bfa6cfeefbf5"
      },
      "source": [
        "df_newyork.shape"
      ],
      "execution_count": null,
      "outputs": [
        {
          "output_type": "execute_result",
          "data": {
            "text/plain": [
              "(17794, 5)"
            ]
          },
          "metadata": {
            "tags": []
          },
          "execution_count": 75
        }
      ]
    },
    {
      "cell_type": "code",
      "metadata": {
        "colab": {
          "base_uri": "https://localhost:8080/",
          "height": 197
        },
        "id": "OlHQbUe88x_s",
        "outputId": "74cfae6d-62d2-4bc7-bb3e-79deef6a6164"
      },
      "source": [
        "df_nyc=df[df['county']=='New York City']\n",
        "df_nyc.head()"
      ],
      "execution_count": 4,
      "outputs": [
        {
          "output_type": "execute_result",
          "data": {
            "text/html": [
              "<div>\n",
              "<style scoped>\n",
              "    .dataframe tbody tr th:only-of-type {\n",
              "        vertical-align: middle;\n",
              "    }\n",
              "\n",
              "    .dataframe tbody tr th {\n",
              "        vertical-align: top;\n",
              "    }\n",
              "\n",
              "    .dataframe thead th {\n",
              "        text-align: right;\n",
              "    }\n",
              "</style>\n",
              "<table border=\"1\" class=\"dataframe\">\n",
              "  <thead>\n",
              "    <tr style=\"text-align: right;\">\n",
              "      <th></th>\n",
              "      <th>date</th>\n",
              "      <th>county</th>\n",
              "      <th>state</th>\n",
              "      <th>fips</th>\n",
              "      <th>cases</th>\n",
              "      <th>deaths</th>\n",
              "    </tr>\n",
              "  </thead>\n",
              "  <tbody>\n",
              "    <tr>\n",
              "      <th>416</th>\n",
              "      <td>2020-03-01</td>\n",
              "      <td>New York City</td>\n",
              "      <td>New York</td>\n",
              "      <td>NaN</td>\n",
              "      <td>1</td>\n",
              "      <td>0.0</td>\n",
              "    </tr>\n",
              "    <tr>\n",
              "      <th>448</th>\n",
              "      <td>2020-03-02</td>\n",
              "      <td>New York City</td>\n",
              "      <td>New York</td>\n",
              "      <td>NaN</td>\n",
              "      <td>1</td>\n",
              "      <td>0.0</td>\n",
              "    </tr>\n",
              "    <tr>\n",
              "      <th>482</th>\n",
              "      <td>2020-03-03</td>\n",
              "      <td>New York City</td>\n",
              "      <td>New York</td>\n",
              "      <td>NaN</td>\n",
              "      <td>2</td>\n",
              "      <td>0.0</td>\n",
              "    </tr>\n",
              "    <tr>\n",
              "      <th>518</th>\n",
              "      <td>2020-03-04</td>\n",
              "      <td>New York City</td>\n",
              "      <td>New York</td>\n",
              "      <td>NaN</td>\n",
              "      <td>2</td>\n",
              "      <td>0.0</td>\n",
              "    </tr>\n",
              "    <tr>\n",
              "      <th>565</th>\n",
              "      <td>2020-03-05</td>\n",
              "      <td>New York City</td>\n",
              "      <td>New York</td>\n",
              "      <td>NaN</td>\n",
              "      <td>4</td>\n",
              "      <td>0.0</td>\n",
              "    </tr>\n",
              "  </tbody>\n",
              "</table>\n",
              "</div>"
            ],
            "text/plain": [
              "           date         county     state  fips  cases  deaths\n",
              "416  2020-03-01  New York City  New York   NaN      1     0.0\n",
              "448  2020-03-02  New York City  New York   NaN      1     0.0\n",
              "482  2020-03-03  New York City  New York   NaN      2     0.0\n",
              "518  2020-03-04  New York City  New York   NaN      2     0.0\n",
              "565  2020-03-05  New York City  New York   NaN      4     0.0"
            ]
          },
          "metadata": {
            "tags": []
          },
          "execution_count": 4
        }
      ]
    },
    {
      "cell_type": "code",
      "metadata": {
        "colab": {
          "base_uri": "https://localhost:8080/",
          "height": 197
        },
        "id": "BJ2B-2rb86iD",
        "outputId": "fcccf7e2-d8e5-43eb-e360-726e7f4031dc"
      },
      "source": [
        "df_nyc.tail()"
      ],
      "execution_count": null,
      "outputs": [
        {
          "output_type": "execute_result",
          "data": {
            "text/html": [
              "<div>\n",
              "<style scoped>\n",
              "    .dataframe tbody tr th:only-of-type {\n",
              "        vertical-align: middle;\n",
              "    }\n",
              "\n",
              "    .dataframe tbody tr th {\n",
              "        vertical-align: top;\n",
              "    }\n",
              "\n",
              "    .dataframe thead th {\n",
              "        text-align: right;\n",
              "    }\n",
              "</style>\n",
              "<table border=\"1\" class=\"dataframe\">\n",
              "  <thead>\n",
              "    <tr style=\"text-align: right;\">\n",
              "      <th></th>\n",
              "      <th>date</th>\n",
              "      <th>county</th>\n",
              "      <th>state</th>\n",
              "      <th>cases</th>\n",
              "      <th>deaths</th>\n",
              "    </tr>\n",
              "  </thead>\n",
              "  <tbody>\n",
              "    <tr>\n",
              "      <th>925636</th>\n",
              "      <td>2021-01-13</td>\n",
              "      <td>New York City</td>\n",
              "      <td>New York</td>\n",
              "      <td>504826</td>\n",
              "      <td>25741.0</td>\n",
              "    </tr>\n",
              "    <tr>\n",
              "      <th>928881</th>\n",
              "      <td>2021-01-14</td>\n",
              "      <td>New York City</td>\n",
              "      <td>New York</td>\n",
              "      <td>510711</td>\n",
              "      <td>25834.0</td>\n",
              "    </tr>\n",
              "    <tr>\n",
              "      <th>932126</th>\n",
              "      <td>2021-01-15</td>\n",
              "      <td>New York City</td>\n",
              "      <td>New York</td>\n",
              "      <td>517963</td>\n",
              "      <td>25909.0</td>\n",
              "    </tr>\n",
              "    <tr>\n",
              "      <th>935371</th>\n",
              "      <td>2021-01-16</td>\n",
              "      <td>New York City</td>\n",
              "      <td>New York</td>\n",
              "      <td>524231</td>\n",
              "      <td>25970.0</td>\n",
              "    </tr>\n",
              "    <tr>\n",
              "      <th>938616</th>\n",
              "      <td>2021-01-17</td>\n",
              "      <td>New York City</td>\n",
              "      <td>New York</td>\n",
              "      <td>529834</td>\n",
              "      <td>26036.0</td>\n",
              "    </tr>\n",
              "  </tbody>\n",
              "</table>\n",
              "</div>"
            ],
            "text/plain": [
              "              date         county     state   cases   deaths\n",
              "925636  2021-01-13  New York City  New York  504826  25741.0\n",
              "928881  2021-01-14  New York City  New York  510711  25834.0\n",
              "932126  2021-01-15  New York City  New York  517963  25909.0\n",
              "935371  2021-01-16  New York City  New York  524231  25970.0\n",
              "938616  2021-01-17  New York City  New York  529834  26036.0"
            ]
          },
          "metadata": {
            "tags": []
          },
          "execution_count": 78
        }
      ]
    },
    {
      "cell_type": "code",
      "metadata": {
        "id": "XNuZqUlI1096",
        "colab": {
          "base_uri": "https://localhost:8080/",
          "height": 296
        },
        "outputId": "31b019ee-afe0-4247-fecd-4e732d0e8077"
      },
      "source": [
        "sns.scatterplot(data=df_nyc , x = \"cases\", y = 'deaths' , color = \"red\")"
      ],
      "execution_count": null,
      "outputs": [
        {
          "output_type": "execute_result",
          "data": {
            "text/plain": [
              "<matplotlib.axes._subplots.AxesSubplot at 0x7f640d75f908>"
            ]
          },
          "metadata": {
            "tags": []
          },
          "execution_count": 80
        },
        {
          "output_type": "display_data",
          "data": {
            "image/png": "[encoded data removed]",
            "text/plain": [
              "<Figure size 432x288 with 1 Axes>"
            ]
          },
          "metadata": {
            "tags": [],
            "needs_background": "light"
          }
        }
      ]
    },
    {
      "cell_type": "code",
      "metadata": {
        "id": "z7sGUFdO2CAo",
        "colab": {
          "base_uri": "https://localhost:8080/",
          "height": 451
        },
        "outputId": "3f456ad8-656c-4fc7-8411-27b96eeb8baa"
      },
      "source": [
        "fig = plt.figure(figsize=(40, 11))\n",
        "sns.barplot(data = df_nyc , x= \"date\", y = \"deaths\" , color=\"green\")"
      ],
      "execution_count": 52,
      "outputs": [
        {
          "output_type": "execute_result",
          "data": {
            "text/plain": [
              "<matplotlib.axes._subplots.AxesSubplot at 0x7f33081d2ac8>"
            ]
          },
          "metadata": {
            "tags": []
          },
          "execution_count": 52
        },
        {
          "output_type": "display_data",
          "data": {
            "image/png": "[encoded data removed]",
            "text/plain": [
              "<Figure size 2880x792 with 1 Axes>"
            ]
          },
          "metadata": {
            "tags": [],
            "needs_background": "light"
          }
        }
      ]
    },
    {
      "cell_type": "code",
      "metadata": {
        "id": "TNYs0GNm4K5O",
        "colab": {
          "base_uri": "https://localhost:8080/"
        },
        "outputId": "f5cda064-d29c-460e-8286-849110fb67cf"
      },
      "source": [
        "df_nyc['cases'].mean()"
      ],
      "execution_count": null,
      "outputs": [
        {
          "output_type": "execute_result",
          "data": {
            "text/plain": [
              "229800.52631578947"
            ]
          },
          "metadata": {
            "tags": []
          },
          "execution_count": 82
        }
      ]
    },
    {
      "cell_type": "code",
      "metadata": {
        "colab": {
          "base_uri": "https://localhost:8080/"
        },
        "id": "p0BLck2O3iqp",
        "outputId": "2144ac65-c7bf-4d93-bd44-8efc865dc782"
      },
      "source": [
        "df_nyc['cases'].median()"
      ],
      "execution_count": null,
      "outputs": [
        {
          "output_type": "execute_result",
          "data": {
            "text/plain": [
              "232517.0"
            ]
          },
          "metadata": {
            "tags": []
          },
          "execution_count": 83
        }
      ]
    },
    {
      "cell_type": "code",
      "metadata": {
        "colab": {
          "base_uri": "https://localhost:8080/",
          "height": 522
        },
        "id": "ET8kx1iu3wei",
        "outputId": "7ad5daac-46a5-41ef-e905-fab8fc9f0033"
      },
      "source": [
        "df.groupby(['state'])['cases'].count().sort_values(ascending=True).plot(kind='bar',figsize=(14,6))"
      ],
      "execution_count": 51,
      "outputs": [
        {
          "output_type": "execute_result",
          "data": {
            "text/plain": [
              "<matplotlib.axes._subplots.AxesSubplot at 0x7f3308168780>"
            ]
          },
          "metadata": {
            "tags": []
          },
          "execution_count": 51
        },
        {
          "output_type": "display_data",
          "data": {
            "image/png": "[encoded data removed]",
            "text/plain": [
              "<Figure size 1008x432 with 1 Axes>"
            ]
          },
          "metadata": {
            "tags": [],
            "needs_background": "light"
          }
        }
      ]
    },
    {
      "cell_type": "markdown",
      "metadata": {
        "id": "EUDKCB5y3y_Q"
      },
      "source": [
        "Find new covid 19 cases daily basis (new cases added everyday)"
      ]
    },
    {
      "cell_type": "code",
      "metadata": {
        "colab": {
          "base_uri": "https://localhost:8080/"
        },
        "id": "Dg4mqpwh340H",
        "outputId": "3203db5a-edc2-4d23-b928-c61c34349b4b"
      },
      "source": [
        "df_newyork.count"
      ],
      "execution_count": null,
      "outputs": [
        {
          "output_type": "execute_result",
          "data": {
            "text/plain": [
              "<bound method DataFrame.count of               date         county     state     fips  cases  deaths\n",
              "416     2020-03-01  New York City  New York      NaN      1     0.0\n",
              "448     2020-03-02  New York City  New York      NaN      1     0.0\n",
              "482     2020-03-03  New York City  New York      NaN      2     0.0\n",
              "518     2020-03-04  New York City  New York      NaN      2     0.0\n",
              "519     2020-03-04    Westchester  New York  36119.0      9     0.0\n",
              "...            ...            ...       ...      ...    ...     ...\n",
              "938641  2021-01-17     Washington  New York  36115.0   1438    23.0\n",
              "938642  2021-01-17          Wayne  New York  36117.0   3606    50.0\n",
              "938643  2021-01-17    Westchester  New York  36119.0  83707  1789.0\n",
              "938644  2021-01-17        Wyoming  New York  36121.0   2114    41.0\n",
              "938645  2021-01-17          Yates  New York  36123.0    795    16.0\n",
              "\n",
              "[17794 rows x 6 columns]>"
            ]
          },
          "metadata": {
            "tags": []
          },
          "execution_count": 34
        }
      ]
    },
    {
      "cell_type": "code",
      "metadata": {
        "id": "cSRFSwiR4kCS"
      },
      "source": [
        "df_ny30 = df[df['state'] == 'New York']"
      ],
      "execution_count": null,
      "outputs": []
    },
    {
      "cell_type": "code",
      "metadata": {
        "colab": {
          "base_uri": "https://localhost:8080/"
        },
        "id": "KcVEf2Dr3vt3",
        "outputId": "24219ce0-6e22-4903-f350-3b9ff8e7d913"
      },
      "source": [
        "df_nyc = df[(df['date']>'2020-12-16')& (df['date'] <'2021-01-30')]\r\n",
        "df_nyc30 = df_nyc[df_nyc['county'] == 'New York City']\r\n",
        "dfcases = df_nyc30[\"cases\"]\r\n",
        "\r\n",
        "\r\n",
        "x = -1\r\n",
        "cases =[]\r\n",
        "active = True\r\n",
        "while active:\r\n",
        "  \r\n",
        "  cases.append(dfcases.iloc[x] - dfcases.iloc[(x-1)])\r\n",
        "  x = x +(-1)\r\n",
        "  if x == -30:\r\n",
        "    active = False\r\n",
        "\r\n",
        "print(cases)"
      ],
      "execution_count": null,
      "outputs": [
        {
          "output_type": "stream",
          "text": [
            "[5603, 6268, 7252, 5885, 5949, 5571, 5755, 6272, 6940, 7012, 6339, 4991, 5339, 3759, 4204, 6003, 5829, 4584, 4205, 5152, 3450, 3424, 4191, 4606, 5441, 4176, 4039, 3787, 2741]\n"
          ],
          "name": "stdout"
        }
      ]
    },
    {
      "cell_type": "code",
      "metadata": {
        "colab": {
          "base_uri": "https://localhost:8080/"
        },
        "id": "o6l7g48K3yiW",
        "outputId": "44a3cd3b-4834-4e7b-fec6-3f6d7a24f6b2"
      },
      "source": [
        "dfdates = df_nyc30[\"date\"]\r\n",
        "\r\n",
        "dfdates\r\n",
        "\r\n",
        "x = -1\r\n",
        "dates =[]\r\n",
        "active = True\r\n",
        "while active:\r\n",
        "  \r\n",
        "  dates.append(dfdates.iloc[x])\r\n",
        "  x = x +(-1)\r\n",
        "  if x == -30:\r\n",
        "    active = False\r\n",
        "\r\n",
        "print(dates)"
      ],
      "execution_count": null,
      "outputs": [
        {
          "output_type": "stream",
          "text": [
            "['2021-01-17', '2021-01-16', '2021-01-15', '2021-01-14', '2021-01-13', '2021-01-12', '2021-01-11', '2021-01-10', '2021-01-09', '2021-01-08', '2021-01-07', '2021-01-06', '2021-01-05', '2021-01-04', '2021-01-03', '2021-01-02', '2021-01-01', '2020-12-31', '2020-12-30', '2020-12-29', '2020-12-28', '2020-12-27', '2020-12-26', '2020-12-25', '2020-12-24', '2020-12-23', '2020-12-22', '2020-12-21', '2020-12-20']\n"
          ],
          "name": "stdout"
        }
      ]
    },
    {
      "cell_type": "code",
      "metadata": {
        "colab": {
          "base_uri": "https://localhost:8080/"
        },
        "id": "jwoG_D_-305f",
        "outputId": "4bfe609b-6cc6-4178-a3c5-a9321f21a65c"
      },
      "source": [
        "y = 0\r\n",
        "active = True\r\n",
        "while active:\r\n",
        "  print( \" There were \" + str(cases[y]) + \" new cases in New York City on \" + str(dates[y]) + \".\")\r\n",
        "  y = y + 1\r\n",
        "  if y == 29:\r\n",
        "    active = False"
      ],
      "execution_count": null,
      "outputs": [
        {
          "output_type": "stream",
          "text": [
            " There were 5603 new cases in New York City on 2021-01-17.\n",
            " There were 6268 new cases in New York City on 2021-01-16.\n",
            " There were 7252 new cases in New York City on 2021-01-15.\n",
            " There were 5885 new cases in New York City on 2021-01-14.\n",
            " There were 5949 new cases in New York City on 2021-01-13.\n",
            " There were 5571 new cases in New York City on 2021-01-12.\n",
            " There were 5755 new cases in New York City on 2021-01-11.\n",
            " There were 6272 new cases in New York City on 2021-01-10.\n",
            " There were 6940 new cases in New York City on 2021-01-09.\n",
            " There were 7012 new cases in New York City on 2021-01-08.\n",
            " There were 6339 new cases in New York City on 2021-01-07.\n",
            " There were 4991 new cases in New York City on 2021-01-06.\n",
            " There were 5339 new cases in New York City on 2021-01-05.\n",
            " There were 3759 new cases in New York City on 2021-01-04.\n",
            " There were 4204 new cases in New York City on 2021-01-03.\n",
            " There were 6003 new cases in New York City on 2021-01-02.\n",
            " There were 5829 new cases in New York City on 2021-01-01.\n",
            " There were 4584 new cases in New York City on 2020-12-31.\n",
            " There were 4205 new cases in New York City on 2020-12-30.\n",
            " There were 5152 new cases in New York City on 2020-12-29.\n",
            " There were 3450 new cases in New York City on 2020-12-28.\n",
            " There were 3424 new cases in New York City on 2020-12-27.\n",
            " There were 4191 new cases in New York City on 2020-12-26.\n",
            " There were 4606 new cases in New York City on 2020-12-25.\n",
            " There were 5441 new cases in New York City on 2020-12-24.\n",
            " There were 4176 new cases in New York City on 2020-12-23.\n",
            " There were 4039 new cases in New York City on 2020-12-22.\n",
            " There were 3787 new cases in New York City on 2020-12-21.\n",
            " There were 2741 new cases in New York City on 2020-12-20.\n"
          ],
          "name": "stdout"
        }
      ]
    },
    {
      "cell_type": "code",
      "metadata": {
        "id": "QDc2omEP_-qS",
        "colab": {
          "base_uri": "https://localhost:8080/"
        },
        "outputId": "546f4cd1-6552-4908-cc81-c9496d825397"
      },
      "source": [
        "x = -1\r\n",
        "dates =[]\r\n",
        "cases =[]\r\n",
        "active = True\r\n",
        "while active:\r\n",
        "  \r\n",
        "  dates.append(dfdates.iloc[x])\r\n",
        "  cases.append(dfcases.iloc[x] - dfcases.iloc[(x-1)])\r\n",
        "  x = x +(-1)\r\n",
        "  if x == -2:\r\n",
        "    active = False\r\n",
        "\r\n",
        "print(\"On \" +  str(dates[0]) + \" there are \" + str(cases[0]) + \" new cases in NYC.\")"
      ],
      "execution_count": null,
      "outputs": [
        {
          "output_type": "stream",
          "text": [
            "On 2021-01-17 there are 5603 new cases in NYC.\n"
          ],
          "name": "stdout"
        }
      ]
    },
    {
      "cell_type": "markdown",
      "metadata": {
        "id": "isbKFb4R_CPZ"
      },
      "source": [
        "# Task 4: Understanding NY Covid Data in the last 30 days"
      ]
    },
    {
      "cell_type": "code",
      "metadata": {
        "id": "tBIhMEqI_IIk"
      },
      "source": [
        "df_ny30 = df[df['state'] == 'New York']"
      ],
      "execution_count": 11,
      "outputs": []
    },
    {
      "cell_type": "code",
      "metadata": {
        "colab": {
          "base_uri": "https://localhost:8080/",
          "height": 1000
        },
        "id": "1B7IpK9nKWpY",
        "outputId": "18e37d08-51a5-4d5d-9ebe-9f894c4e786e"
      },
      "source": [
        "df_nyc = df[(df['date']>'2020-12-16')& (df['date'] <'2021-01-30')]\r\n",
        "df_nyc30 = df_nyc[df_nyc['county'] == 'New York City']\r\n",
        "df_nyc30\r\n",
        "\r\n"
      ],
      "execution_count": 12,
      "outputs": [
        {
          "output_type": "execute_result",
          "data": {
            "text/html": [
              "<div>\n",
              "<style scoped>\n",
              "    .dataframe tbody tr th:only-of-type {\n",
              "        vertical-align: middle;\n",
              "    }\n",
              "\n",
              "    .dataframe tbody tr th {\n",
              "        vertical-align: top;\n",
              "    }\n",
              "\n",
              "    .dataframe thead th {\n",
              "        text-align: right;\n",
              "    }\n",
              "</style>\n",
              "<table border=\"1\" class=\"dataframe\">\n",
              "  <thead>\n",
              "    <tr style=\"text-align: right;\">\n",
              "      <th></th>\n",
              "      <th>date</th>\n",
              "      <th>county</th>\n",
              "      <th>state</th>\n",
              "      <th>fips</th>\n",
              "      <th>cases</th>\n",
              "      <th>deaths</th>\n",
              "    </tr>\n",
              "  </thead>\n",
              "  <tbody>\n",
              "    <tr>\n",
              "      <th>838014</th>\n",
              "      <td>2020-12-17</td>\n",
              "      <td>New York City</td>\n",
              "      <td>New York</td>\n",
              "      <td>NaN</td>\n",
              "      <td>373320</td>\n",
              "      <td>24613.0</td>\n",
              "    </tr>\n",
              "    <tr>\n",
              "      <th>841259</th>\n",
              "      <td>2020-12-18</td>\n",
              "      <td>New York City</td>\n",
              "      <td>New York</td>\n",
              "      <td>NaN</td>\n",
              "      <td>377728</td>\n",
              "      <td>24652.0</td>\n",
              "    </tr>\n",
              "    <tr>\n",
              "      <th>844505</th>\n",
              "      <td>2020-12-19</td>\n",
              "      <td>New York City</td>\n",
              "      <td>New York</td>\n",
              "      <td>NaN</td>\n",
              "      <td>381067</td>\n",
              "      <td>24677.0</td>\n",
              "    </tr>\n",
              "    <tr>\n",
              "      <th>847750</th>\n",
              "      <td>2020-12-20</td>\n",
              "      <td>New York City</td>\n",
              "      <td>New York</td>\n",
              "      <td>NaN</td>\n",
              "      <td>383808</td>\n",
              "      <td>24697.0</td>\n",
              "    </tr>\n",
              "    <tr>\n",
              "      <th>850995</th>\n",
              "      <td>2020-12-21</td>\n",
              "      <td>New York City</td>\n",
              "      <td>New York</td>\n",
              "      <td>NaN</td>\n",
              "      <td>387595</td>\n",
              "      <td>24735.0</td>\n",
              "    </tr>\n",
              "    <tr>\n",
              "      <th>854240</th>\n",
              "      <td>2020-12-22</td>\n",
              "      <td>New York City</td>\n",
              "      <td>New York</td>\n",
              "      <td>NaN</td>\n",
              "      <td>391634</td>\n",
              "      <td>24768.0</td>\n",
              "    </tr>\n",
              "    <tr>\n",
              "      <th>857485</th>\n",
              "      <td>2020-12-23</td>\n",
              "      <td>New York City</td>\n",
              "      <td>New York</td>\n",
              "      <td>NaN</td>\n",
              "      <td>395810</td>\n",
              "      <td>24790.0</td>\n",
              "    </tr>\n",
              "    <tr>\n",
              "      <th>860730</th>\n",
              "      <td>2020-12-24</td>\n",
              "      <td>New York City</td>\n",
              "      <td>New York</td>\n",
              "      <td>NaN</td>\n",
              "      <td>401251</td>\n",
              "      <td>24842.0</td>\n",
              "    </tr>\n",
              "    <tr>\n",
              "      <th>863975</th>\n",
              "      <td>2020-12-25</td>\n",
              "      <td>New York City</td>\n",
              "      <td>New York</td>\n",
              "      <td>NaN</td>\n",
              "      <td>405857</td>\n",
              "      <td>24889.0</td>\n",
              "    </tr>\n",
              "    <tr>\n",
              "      <th>867220</th>\n",
              "      <td>2020-12-26</td>\n",
              "      <td>New York City</td>\n",
              "      <td>New York</td>\n",
              "      <td>NaN</td>\n",
              "      <td>410048</td>\n",
              "      <td>24931.0</td>\n",
              "    </tr>\n",
              "    <tr>\n",
              "      <th>870465</th>\n",
              "      <td>2020-12-27</td>\n",
              "      <td>New York City</td>\n",
              "      <td>New York</td>\n",
              "      <td>NaN</td>\n",
              "      <td>413472</td>\n",
              "      <td>24973.0</td>\n",
              "    </tr>\n",
              "    <tr>\n",
              "      <th>873710</th>\n",
              "      <td>2020-12-28</td>\n",
              "      <td>New York City</td>\n",
              "      <td>New York</td>\n",
              "      <td>NaN</td>\n",
              "      <td>416922</td>\n",
              "      <td>25008.0</td>\n",
              "    </tr>\n",
              "    <tr>\n",
              "      <th>876955</th>\n",
              "      <td>2020-12-29</td>\n",
              "      <td>New York City</td>\n",
              "      <td>New York</td>\n",
              "      <td>NaN</td>\n",
              "      <td>422074</td>\n",
              "      <td>25055.0</td>\n",
              "    </tr>\n",
              "    <tr>\n",
              "      <th>880200</th>\n",
              "      <td>2020-12-30</td>\n",
              "      <td>New York City</td>\n",
              "      <td>New York</td>\n",
              "      <td>NaN</td>\n",
              "      <td>426279</td>\n",
              "      <td>25099.0</td>\n",
              "    </tr>\n",
              "    <tr>\n",
              "      <th>883445</th>\n",
              "      <td>2020-12-31</td>\n",
              "      <td>New York City</td>\n",
              "      <td>New York</td>\n",
              "      <td>NaN</td>\n",
              "      <td>430863</td>\n",
              "      <td>25144.0</td>\n",
              "    </tr>\n",
              "    <tr>\n",
              "      <th>886690</th>\n",
              "      <td>2021-01-01</td>\n",
              "      <td>New York City</td>\n",
              "      <td>New York</td>\n",
              "      <td>NaN</td>\n",
              "      <td>436692</td>\n",
              "      <td>25186.0</td>\n",
              "    </tr>\n",
              "    <tr>\n",
              "      <th>889937</th>\n",
              "      <td>2021-01-02</td>\n",
              "      <td>New York City</td>\n",
              "      <td>New York</td>\n",
              "      <td>NaN</td>\n",
              "      <td>442695</td>\n",
              "      <td>25211.0</td>\n",
              "    </tr>\n",
              "    <tr>\n",
              "      <th>893183</th>\n",
              "      <td>2021-01-03</td>\n",
              "      <td>New York City</td>\n",
              "      <td>New York</td>\n",
              "      <td>NaN</td>\n",
              "      <td>446899</td>\n",
              "      <td>25244.0</td>\n",
              "    </tr>\n",
              "    <tr>\n",
              "      <th>896429</th>\n",
              "      <td>2021-01-04</td>\n",
              "      <td>New York City</td>\n",
              "      <td>New York</td>\n",
              "      <td>NaN</td>\n",
              "      <td>450658</td>\n",
              "      <td>25284.0</td>\n",
              "    </tr>\n",
              "    <tr>\n",
              "      <th>899674</th>\n",
              "      <td>2021-01-05</td>\n",
              "      <td>New York City</td>\n",
              "      <td>New York</td>\n",
              "      <td>NaN</td>\n",
              "      <td>455997</td>\n",
              "      <td>25309.0</td>\n",
              "    </tr>\n",
              "    <tr>\n",
              "      <th>902919</th>\n",
              "      <td>2021-01-06</td>\n",
              "      <td>New York City</td>\n",
              "      <td>New York</td>\n",
              "      <td>NaN</td>\n",
              "      <td>460988</td>\n",
              "      <td>25362.0</td>\n",
              "    </tr>\n",
              "    <tr>\n",
              "      <th>906165</th>\n",
              "      <td>2021-01-07</td>\n",
              "      <td>New York City</td>\n",
              "      <td>New York</td>\n",
              "      <td>NaN</td>\n",
              "      <td>467327</td>\n",
              "      <td>25416.0</td>\n",
              "    </tr>\n",
              "    <tr>\n",
              "      <th>909410</th>\n",
              "      <td>2021-01-08</td>\n",
              "      <td>New York City</td>\n",
              "      <td>New York</td>\n",
              "      <td>NaN</td>\n",
              "      <td>474339</td>\n",
              "      <td>25453.0</td>\n",
              "    </tr>\n",
              "    <tr>\n",
              "      <th>912655</th>\n",
              "      <td>2021-01-09</td>\n",
              "      <td>New York City</td>\n",
              "      <td>New York</td>\n",
              "      <td>NaN</td>\n",
              "      <td>481279</td>\n",
              "      <td>25505.0</td>\n",
              "    </tr>\n",
              "    <tr>\n",
              "      <th>915900</th>\n",
              "      <td>2021-01-10</td>\n",
              "      <td>New York City</td>\n",
              "      <td>New York</td>\n",
              "      <td>NaN</td>\n",
              "      <td>487551</td>\n",
              "      <td>25562.0</td>\n",
              "    </tr>\n",
              "    <tr>\n",
              "      <th>919145</th>\n",
              "      <td>2021-01-11</td>\n",
              "      <td>New York City</td>\n",
              "      <td>New York</td>\n",
              "      <td>NaN</td>\n",
              "      <td>493306</td>\n",
              "      <td>25635.0</td>\n",
              "    </tr>\n",
              "    <tr>\n",
              "      <th>922390</th>\n",
              "      <td>2021-01-12</td>\n",
              "      <td>New York City</td>\n",
              "      <td>New York</td>\n",
              "      <td>NaN</td>\n",
              "      <td>498877</td>\n",
              "      <td>25698.0</td>\n",
              "    </tr>\n",
              "    <tr>\n",
              "      <th>925636</th>\n",
              "      <td>2021-01-13</td>\n",
              "      <td>New York City</td>\n",
              "      <td>New York</td>\n",
              "      <td>NaN</td>\n",
              "      <td>504826</td>\n",
              "      <td>25741.0</td>\n",
              "    </tr>\n",
              "    <tr>\n",
              "      <th>928881</th>\n",
              "      <td>2021-01-14</td>\n",
              "      <td>New York City</td>\n",
              "      <td>New York</td>\n",
              "      <td>NaN</td>\n",
              "      <td>510711</td>\n",
              "      <td>25834.0</td>\n",
              "    </tr>\n",
              "    <tr>\n",
              "      <th>932126</th>\n",
              "      <td>2021-01-15</td>\n",
              "      <td>New York City</td>\n",
              "      <td>New York</td>\n",
              "      <td>NaN</td>\n",
              "      <td>517963</td>\n",
              "      <td>25909.0</td>\n",
              "    </tr>\n",
              "    <tr>\n",
              "      <th>935371</th>\n",
              "      <td>2021-01-16</td>\n",
              "      <td>New York City</td>\n",
              "      <td>New York</td>\n",
              "      <td>NaN</td>\n",
              "      <td>524231</td>\n",
              "      <td>25970.0</td>\n",
              "    </tr>\n",
              "    <tr>\n",
              "      <th>938616</th>\n",
              "      <td>2021-01-17</td>\n",
              "      <td>New York City</td>\n",
              "      <td>New York</td>\n",
              "      <td>NaN</td>\n",
              "      <td>529834</td>\n",
              "      <td>26036.0</td>\n",
              "    </tr>\n",
              "    <tr>\n",
              "      <th>941861</th>\n",
              "      <td>2021-01-18</td>\n",
              "      <td>New York City</td>\n",
              "      <td>New York</td>\n",
              "      <td>NaN</td>\n",
              "      <td>536287</td>\n",
              "      <td>26104.0</td>\n",
              "    </tr>\n",
              "  </tbody>\n",
              "</table>\n",
              "</div>"
            ],
            "text/plain": [
              "              date         county     state  fips   cases   deaths\n",
              "838014  2020-12-17  New York City  New York   NaN  373320  24613.0\n",
              "841259  2020-12-18  New York City  New York   NaN  377728  24652.0\n",
              "844505  2020-12-19  New York City  New York   NaN  381067  24677.0\n",
              "847750  2020-12-20  New York City  New York   NaN  383808  24697.0\n",
              "850995  2020-12-21  New York City  New York   NaN  387595  24735.0\n",
              "854240  2020-12-22  New York City  New York   NaN  391634  24768.0\n",
              "857485  2020-12-23  New York City  New York   NaN  395810  24790.0\n",
              "860730  2020-12-24  New York City  New York   NaN  401251  24842.0\n",
              "863975  2020-12-25  New York City  New York   NaN  405857  24889.0\n",
              "867220  2020-12-26  New York City  New York   NaN  410048  24931.0\n",
              "870465  2020-12-27  New York City  New York   NaN  413472  24973.0\n",
              "873710  2020-12-28  New York City  New York   NaN  416922  25008.0\n",
              "876955  2020-12-29  New York City  New York   NaN  422074  25055.0\n",
              "880200  2020-12-30  New York City  New York   NaN  426279  25099.0\n",
              "883445  2020-12-31  New York City  New York   NaN  430863  25144.0\n",
              "886690  2021-01-01  New York City  New York   NaN  436692  25186.0\n",
              "889937  2021-01-02  New York City  New York   NaN  442695  25211.0\n",
              "893183  2021-01-03  New York City  New York   NaN  446899  25244.0\n",
              "896429  2021-01-04  New York City  New York   NaN  450658  25284.0\n",
              "899674  2021-01-05  New York City  New York   NaN  455997  25309.0\n",
              "902919  2021-01-06  New York City  New York   NaN  460988  25362.0\n",
              "906165  2021-01-07  New York City  New York   NaN  467327  25416.0\n",
              "909410  2021-01-08  New York City  New York   NaN  474339  25453.0\n",
              "912655  2021-01-09  New York City  New York   NaN  481279  25505.0\n",
              "915900  2021-01-10  New York City  New York   NaN  487551  25562.0\n",
              "919145  2021-01-11  New York City  New York   NaN  493306  25635.0\n",
              "922390  2021-01-12  New York City  New York   NaN  498877  25698.0\n",
              "925636  2021-01-13  New York City  New York   NaN  504826  25741.0\n",
              "928881  2021-01-14  New York City  New York   NaN  510711  25834.0\n",
              "932126  2021-01-15  New York City  New York   NaN  517963  25909.0\n",
              "935371  2021-01-16  New York City  New York   NaN  524231  25970.0\n",
              "938616  2021-01-17  New York City  New York   NaN  529834  26036.0\n",
              "941861  2021-01-18  New York City  New York   NaN  536287  26104.0"
            ]
          },
          "metadata": {
            "tags": []
          },
          "execution_count": 12
        }
      ]
    },
    {
      "cell_type": "code",
      "metadata": {
        "colab": {
          "base_uri": "https://localhost:8080/"
        },
        "id": "IzPh-ju1UlGT",
        "outputId": "5e1fcd73-8dda-4ab0-dd0c-8cb7f8b24796"
      },
      "source": [
        " df_nyc30drecent =  df_nyc30[df_nyc30['date']=='2021-01-17']\r\n",
        " df_nyc30dold =  df_nyc30[df_nyc30['date']=='2020-12-17']\r\n",
        "\r\n",
        "death_change = int(df_nyc30drecent[\"deaths\"]) - int(df_nyc30dold[\"deaths\"])\r\n",
        "death_change_percent = (death_change / int(df_nyc30dold[\"deaths\"]))*100\r\n",
        "death_change_percentr = round(death_change_percent, 2)\r\n",
        "print( str(death_change)  + \" more deaths from 12/17 to 01/17.\")\r\n",
        "print(str(death_change_percentr) + \"% of deaths increased from 12/17 to 01/17.\")\r\n"
      ],
      "execution_count": 13,
      "outputs": [
        {
          "output_type": "stream",
          "text": [
            "1423 more deaths from 12/17 to 01/17.\n",
            "5.78% of deaths increased from 12/17 to 01/17.\n"
          ],
          "name": "stdout"
        }
      ]
    },
    {
      "cell_type": "code",
      "metadata": {
        "colab": {
          "base_uri": "https://localhost:8080/"
        },
        "id": "TY1h--QCWa1H",
        "outputId": "1986793a-de5b-47c5-acff-6a7e030e478d"
      },
      "source": [
        "df_nyc30crecent =  df_nyc30[df_nyc30['date']=='2021-01-17']\r\n",
        "df_nyc30cold =  df_nyc30[df_nyc30['date']=='2020-12-17']\r\n",
        "\r\n",
        "case_change = int(df_nyc30crecent[\"cases\"]) - int(df_nyc30cold[\"cases\"])\r\n",
        "case_change_percent = (case_change / int(df_nyc30dold[\"deaths\"]))*100\r\n",
        "case_change_percentr = round(case_change_percent, 2)\r\n",
        "print( str(case_change)  + \" more cases from 12/17 to 01/17.\")\r\n",
        "print(str(case_change_percentr) + \"% of cases increased from 12/17 to 01/17.\")"
      ],
      "execution_count": 14,
      "outputs": [
        {
          "output_type": "stream",
          "text": [
            "156514 more cases from 12/17 to 01/17.\n",
            "635.9% of cases increased from 12/17 to 01/17.\n"
          ],
          "name": "stdout"
        }
      ]
    },
    {
      "cell_type": "code",
      "metadata": {
        "colab": {
          "base_uri": "https://localhost:8080/",
          "height": 413
        },
        "id": "E7cy1JNCPvmY",
        "outputId": "78a32624-8a64-44ed-9109-d29288a07c07"
      },
      "source": [
        "fig = plt.figure(figsize=(40, 10))\n",
        "sns.barplot(data = df_nyc30 , x= \"date\", y = \"deaths\" , color=\"pink\")\n"
      ],
      "execution_count": 47,
      "outputs": [
        {
          "output_type": "execute_result",
          "data": {
            "text/plain": [
              "<matplotlib.axes._subplots.AxesSubplot at 0x7f33087b65f8>"
            ]
          },
          "metadata": {
            "tags": []
          },
          "execution_count": 47
        },
        {
          "output_type": "display_data",
          "data": {
            "image/png": "[encoded data removed]",
            "text/plain": [
              "<Figure size 2880x720 with 1 Axes>"
            ]
          },
          "metadata": {
            "tags": [],
            "needs_background": "light"
          }
        }
      ]
    },
    {
      "cell_type": "code",
      "metadata": {
        "colab": {
          "base_uri": "https://localhost:8080/",
          "height": 296
        },
        "id": "qbVSpZzQSL69",
        "outputId": "8d497815-ee83-462b-eed7-285dc722809e"
      },
      "source": [
        "sns.scatterplot(data=df_nyc30 , x = \"cases\", y = 'deaths' , color = \"pink\")"
      ],
      "execution_count": null,
      "outputs": [
        {
          "output_type": "execute_result",
          "data": {
            "text/plain": [
              "<matplotlib.axes._subplots.AxesSubplot at 0x7f640bf58f28>"
            ]
          },
          "metadata": {
            "tags": []
          },
          "execution_count": 105
        },
        {
          "output_type": "display_data",
          "data": {
            "image/png": "[encoded data removed]",
            "text/plain": [
              "<Figure size 432x288 with 1 Axes>"
            ]
          },
          "metadata": {
            "tags": [],
            "needs_background": "light"
          }
        }
      ]
    },
    {
      "cell_type": "markdown",
      "metadata": {
        "id": "Z-7dPYpNIOBz"
      },
      "source": [
        "# Task 5: Comparing COVID 19 data with different states"
      ]
    },
    {
      "cell_type": "markdown",
      "metadata": {
        "id": "hmplt077Id8_"
      },
      "source": [
        "Comparing the Covid 19 cases after July for states: New York, Washington, Florida, Ohio, California"
      ]
    },
    {
      "cell_type": "code",
      "metadata": {
        "colab": {
          "base_uri": "https://localhost:8080/",
          "height": 197
        },
        "id": "nYqExAqKPLMY",
        "outputId": "ec745f80-29f8-4657-a47e-1afe226eb433"
      },
      "source": [
        "df_states=pd.read_csv('https://raw.githubusercontent.com/nytimes/covid-19-data/master/us-states.csv')\n",
        "df_states\n",
        "\n",
        "\n",
        "df_states.query(\"state== 'California' or state == 'New York' or state == 'Ohio' or state == 'Florida' or state == 'Washington'\")\n",
        "df2=df_states.query(\"state== 'California' or state == 'New York' or state == 'Ohio' or state == 'Florida' or state == 'Washington'\")\n",
        "df2=df2[(df2['date']>'2020-06-30')& (df2['date'] <'2021-01-01')]\n",
        "drop_col = ['fips']\n",
        "df2.drop(drop_col, inplace= True, axis=1)\n",
        "df2\n",
        "df2.tail()\n",
        "\n"
      ],
      "execution_count": null,
      "outputs": [
        {
          "output_type": "execute_result",
          "data": {
            "text/html": [
              "<div>\n",
              "<style scoped>\n",
              "    .dataframe tbody tr th:only-of-type {\n",
              "        vertical-align: middle;\n",
              "    }\n",
              "\n",
              "    .dataframe tbody tr th {\n",
              "        vertical-align: top;\n",
              "    }\n",
              "\n",
              "    .dataframe thead th {\n",
              "        text-align: right;\n",
              "    }\n",
              "</style>\n",
              "<table border=\"1\" class=\"dataframe\">\n",
              "  <thead>\n",
              "    <tr style=\"text-align: right;\">\n",
              "      <th></th>\n",
              "      <th>date</th>\n",
              "      <th>state</th>\n",
              "      <th>cases</th>\n",
              "      <th>deaths</th>\n",
              "    </tr>\n",
              "  </thead>\n",
              "  <tbody>\n",
              "    <tr>\n",
              "      <th>16683</th>\n",
              "      <td>2020-12-31</td>\n",
              "      <td>California</td>\n",
              "      <td>2307769</td>\n",
              "      <td>25965</td>\n",
              "    </tr>\n",
              "    <tr>\n",
              "      <th>16688</th>\n",
              "      <td>2020-12-31</td>\n",
              "      <td>Florida</td>\n",
              "      <td>1323307</td>\n",
              "      <td>21672</td>\n",
              "    </tr>\n",
              "    <tr>\n",
              "      <th>16712</th>\n",
              "      <td>2020-12-31</td>\n",
              "      <td>New York</td>\n",
              "      <td>979040</td>\n",
              "      <td>37557</td>\n",
              "    </tr>\n",
              "    <tr>\n",
              "      <th>16716</th>\n",
              "      <td>2020-12-31</td>\n",
              "      <td>Ohio</td>\n",
              "      <td>700380</td>\n",
              "      <td>8962</td>\n",
              "    </tr>\n",
              "    <tr>\n",
              "      <th>16730</th>\n",
              "      <td>2020-12-31</td>\n",
              "      <td>Washington</td>\n",
              "      <td>251064</td>\n",
              "      <td>3523</td>\n",
              "    </tr>\n",
              "  </tbody>\n",
              "</table>\n",
              "</div>"
            ],
            "text/plain": [
              "             date       state    cases  deaths\n",
              "16683  2020-12-31  California  2307769   25965\n",
              "16688  2020-12-31     Florida  1323307   21672\n",
              "16712  2020-12-31    New York   979040   37557\n",
              "16716  2020-12-31        Ohio   700380    8962\n",
              "16730  2020-12-31  Washington   251064    3523"
            ]
          },
          "metadata": {
            "tags": []
          },
          "execution_count": 120
        }
      ]
    },
    {
      "cell_type": "code",
      "metadata": {
        "colab": {
          "base_uri": "https://localhost:8080/",
          "height": 197
        },
        "id": "v8V9tssJOegm",
        "outputId": "b0657a47-174a-4cce-ed74-c81c4eb8005d"
      },
      "source": [
        "def us_states(row):\n",
        "    if row['state'] == 'New York':\n",
        "        return 'NY'\n",
        "    elif row['state'] == 'Washington':\n",
        "        return 'WA'\n",
        "    elif row['state'] == 'Florida':\n",
        "        return 'FL'\n",
        "    elif row['state'] == 'Ohio':\n",
        "        return 'OH'\n",
        "    elif row['state'] == 'California':\n",
        "        return 'CA'\n",
        "    else:\n",
        "        return 'N/A'\n",
        "# apply to dataframe, use axis=1 to apply the function to every row\n",
        "df2['us_states'] = df_states.apply(us_states, axis=1)\n",
        "df2.head()\n",
        "\n",
        "       "
      ],
      "execution_count": null,
      "outputs": [
        {
          "output_type": "execute_result",
          "data": {
            "text/html": [
              "<div>\n",
              "<style scoped>\n",
              "    .dataframe tbody tr th:only-of-type {\n",
              "        vertical-align: middle;\n",
              "    }\n",
              "\n",
              "    .dataframe tbody tr th {\n",
              "        vertical-align: top;\n",
              "    }\n",
              "\n",
              "    .dataframe thead th {\n",
              "        text-align: right;\n",
              "    }\n",
              "</style>\n",
              "<table border=\"1\" class=\"dataframe\">\n",
              "  <thead>\n",
              "    <tr style=\"text-align: right;\">\n",
              "      <th></th>\n",
              "      <th>date</th>\n",
              "      <th>state</th>\n",
              "      <th>fips</th>\n",
              "      <th>cases</th>\n",
              "      <th>deaths</th>\n",
              "      <th>us_states</th>\n",
              "    </tr>\n",
              "  </thead>\n",
              "  <tbody>\n",
              "    <tr>\n",
              "      <th>6618</th>\n",
              "      <td>2020-07-01</td>\n",
              "      <td>California</td>\n",
              "      <td>6</td>\n",
              "      <td>239764</td>\n",
              "      <td>6168</td>\n",
              "      <td>CA</td>\n",
              "    </tr>\n",
              "    <tr>\n",
              "      <th>6623</th>\n",
              "      <td>2020-07-01</td>\n",
              "      <td>Florida</td>\n",
              "      <td>12</td>\n",
              "      <td>158989</td>\n",
              "      <td>3549</td>\n",
              "      <td>FL</td>\n",
              "    </tr>\n",
              "    <tr>\n",
              "      <th>6647</th>\n",
              "      <td>2020-07-01</td>\n",
              "      <td>New York</td>\n",
              "      <td>36</td>\n",
              "      <td>398770</td>\n",
              "      <td>31791</td>\n",
              "      <td>NY</td>\n",
              "    </tr>\n",
              "    <tr>\n",
              "      <th>6651</th>\n",
              "      <td>2020-07-01</td>\n",
              "      <td>Ohio</td>\n",
              "      <td>39</td>\n",
              "      <td>52865</td>\n",
              "      <td>2876</td>\n",
              "      <td>OH</td>\n",
              "    </tr>\n",
              "    <tr>\n",
              "      <th>6665</th>\n",
              "      <td>2020-07-01</td>\n",
              "      <td>Washington</td>\n",
              "      <td>53</td>\n",
              "      <td>35258</td>\n",
              "      <td>1340</td>\n",
              "      <td>WA</td>\n",
              "    </tr>\n",
              "  </tbody>\n",
              "</table>\n",
              "</div>"
            ],
            "text/plain": [
              "            date       state  fips   cases  deaths us_states\n",
              "6618  2020-07-01  California     6  239764    6168        CA\n",
              "6623  2020-07-01     Florida    12  158989    3549        FL\n",
              "6647  2020-07-01    New York    36  398770   31791        NY\n",
              "6651  2020-07-01        Ohio    39   52865    2876        OH\n",
              "6665  2020-07-01  Washington    53   35258    1340        WA"
            ]
          },
          "metadata": {
            "tags": []
          },
          "execution_count": 118
        }
      ]
    },
    {
      "cell_type": "code",
      "metadata": {
        "id": "I6gUamy1RHSv",
        "colab": {
          "base_uri": "https://localhost:8080/",
          "height": 567
        },
        "outputId": "eb8ae310-a6ae-47b0-8813-3e75c3cc3a27"
      },
      "source": [
        "sns.pairplot(x_vars=[\"us_states\"], data=df2)\n"
      ],
      "execution_count": null,
      "outputs": [
        {
          "output_type": "execute_result",
          "data": {
            "text/plain": [
              "<seaborn.axisgrid.PairGrid at 0x7f640c7582b0>"
            ]
          },
          "metadata": {
            "tags": []
          },
          "execution_count": 119
        },
        {
          "output_type": "display_data",
          "data": {
            "image/png": "[encoded data removed]",
            "text/plain": [
              "<Figure size 180x540 with 3 Axes>"
            ]
          },
          "metadata": {
            "tags": [],
            "needs_background": "light"
          }
        }
      ]
    },
    {
      "cell_type": "markdown",
      "metadata": {
        "id": "Eq3Xt3DqL7OM"
      },
      "source": [
        "# Task 6: Conclusion"
      ]
    },
    {
      "cell_type": "markdown",
      "metadata": {
        "id": "UGQsvmB0MB_q"
      },
      "source": [
        "**Covid 19 Data in the Last 30 Days:**\n",
        "As depicted by the data analysis above, Covid cases have been significantly rising in NYC. As of December 17, 2020, NYC had 373,320 cases\t24,613 deaths but on January 18, 2020 NYC saw 529,834 cases and 26,036 deaths. Over this 30 day period the city has seen a growth of 5.78% in covid related deaths and 635.9% increase in cases. Evidently, there is a positive relationship between deaths and cases in the last month. \n",
        "\n",
        "\n",
        "\n",
        "\n",
        "\n",
        "**Comparison of COVID data between the 5 States**\n",
        "While summer had much less cases and deaths in comparison to the fall and winter months, the comparison of California, New York, Ohio, Florida, and Washington provides interesting insights. While New York had the highest cases and deaths in comparison to the other 5 states, however California had the biggest increase from July 1st to December 31st. Florida showed a pretty intense growth in cases and deaths as well during that time period. The different governmental policies and enforcement may have played a very significant role in why the cases increased so significantly in California and Florida in comparison to the other states. \n",
        "\n"
      ]
    }
  ]
}